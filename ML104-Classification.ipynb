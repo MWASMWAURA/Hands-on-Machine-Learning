{
 "cells": [
  {
   "cell_type": "markdown",
   "id": "ccff17eb",
   "metadata": {},
   "source": [
    "# Table of Contents\n",
    "\n",
    "1. [Introduction](#Introduction) \n",
    "2. [Understanding our dataset](#Understanding-our-dataset)\n",
    "2. [Training a Binary Classifier](#Training-a-Binary-Classifier)\n",
    "3. [Performance Measures](#Performance-Measures)\n",
    "4. [Multiclass Classification](#Multiclass-Classification)\n",
    "5. [Multilabel Classification](#Multilabel-Classification)\n",
    "5. [Multioutput Classification](#Multioutput-Classification)\n",
    "6. [Credits](#Credits)"
   ]
  },
  {
   "cell_type": "markdown",
   "id": "b7d16d92",
   "metadata": {},
   "source": [
    "## Introduction"
   ]
  },
  {
   "cell_type": "markdown",
   "id": "5c89b19d",
   "metadata": {},
   "source": [
    "In this notebook, we will explore the MNIST dataset, which consists of 70,000 images of handwritten digits (0-9) by high school students and employees of the US Census Bureau. We will implement various classification algorithms to recognize these digits and evaluate their performance."
   ]
  },
  {
   "cell_type": "markdown",
   "id": "05778d0d",
   "metadata": {},
   "source": [
    "## Understanding our dataset"
   ]
  },
  {
   "cell_type": "markdown",
   "id": "850bc49f",
   "metadata": {},
   "source": [
    "We fetch MNIST dataset that consists of a set of 70,000 small images of digits handwritten.Each image has 784 features which represent the image pixels that vary from 0 to 255. The image pixels are the ones that identify what digit it is by assigning color to a particular point.\n",
    "\n",
    "Each image is labeled with the digit it represents , scikit-learn provides many helper functions to download popular datasets. MNIST is one of them."
   ]
  },
  {
   "cell_type": "code",
   "execution_count": 105,
   "id": "1d0deb08",
   "metadata": {},
   "outputs": [],
   "source": [
    "from sklearn.datasets import fetch_openml\n",
    "import numpy as np\n",
    "import matplotlib.pyplot as plt  # Correct import\n"
   ]
  },
  {
   "cell_type": "code",
   "execution_count": 106,
   "id": "abf4b343",
   "metadata": {},
   "outputs": [],
   "source": [
    "# Fetch the MNIST dataset\n",
    "mnist = fetch_openml(\"mnist_784\", version=1,parser = 'auto')\n"
   ]
  },
  {
   "cell_type": "code",
   "execution_count": 107,
   "id": "1e1c16dc",
   "metadata": {},
   "outputs": [
    {
     "data": {
      "text/plain": [
       "dict_keys(['data', 'target', 'frame', 'categories', 'feature_names', 'target_names', 'DESCR', 'details', 'url'])"
      ]
     },
     "execution_count": 107,
     "metadata": {},
     "output_type": "execute_result"
    }
   ],
   "source": [
    "# Check keys of the dataset\n",
    "mnist.keys()\n"
   ]
  },
  {
   "cell_type": "code",
   "execution_count": 108,
   "id": "8f9f8525",
   "metadata": {},
   "outputs": [],
   "source": [
    "\n",
    "# Extract the data and target labels\n",
    "X, y = mnist[\"data\"], mnist[\"target\"]\n"
   ]
  },
  {
   "cell_type": "code",
   "execution_count": 109,
   "id": "6c346fd6",
   "metadata": {},
   "outputs": [
    {
     "name": "stdout",
     "output_type": "stream",
     "text": [
      "X shape :(70000, 784)\n",
      "y shape :(70000,)\n"
     ]
    }
   ],
   "source": [
    "\n",
    "# Check the shape of the data\n",
    "print(f\"X shape :{X.shape}\")  # (70000, 784)\n",
    "print(f\"y shape :{y.shape}\")  # (70000,)\n"
   ]
  },
  {
   "cell_type": "code",
   "execution_count": 110,
   "id": "75c67758",
   "metadata": {},
   "outputs": [],
   "source": [
    "# Reshape one image (28x28 pixels)\n",
    "some_digit = X.iloc[0]  # Access using iloc since X is a DataFrame\n",
    "some_digit_image = np.array(some_digit).reshape(28, 28)  # Reshape to 28x28\n"
   ]
  },
  {
   "cell_type": "code",
   "execution_count": 111,
   "id": "c5d78feb",
   "metadata": {},
   "outputs": [
    {
     "data": {
      "image/png": "[encoded data removed]",
      "text/plain": [
       "<Figure size 640x480 with 1 Axes>"
      ]
     },
     "metadata": {},
     "output_type": "display_data"
    }
   ],
   "source": [
    "\n",
    "# Display the image using matplotlib\n",
    "plt.imshow(some_digit_image, cmap=\"binary\")\n",
    "plt.axis(\"off\")  # Turn off the axis\n",
    "plt.show()"
   ]
  },
  {
   "cell_type": "markdown",
   "id": "23455a86",
   "metadata": {},
   "source": [
    "This looks like a 5 , and indeed that's what the label tells us:"
   ]
  },
  {
   "cell_type": "code",
   "execution_count": 112,
   "id": "fb82cb0e",
   "metadata": {},
   "outputs": [
    {
     "data": {
      "text/plain": [
       "'5'"
      ]
     },
     "execution_count": 112,
     "metadata": {},
     "output_type": "execute_result"
    }
   ],
   "source": [
    "y[0]"
   ]
  },
  {
   "cell_type": "markdown",
   "id": "e898ed6a",
   "metadata": {},
   "source": [
    "Note that the label is a string .Most ML algorithms expect numbers , so let's cast y to integer:"
   ]
  },
  {
   "cell_type": "code",
   "execution_count": 113,
   "id": "ce7cf239",
   "metadata": {},
   "outputs": [],
   "source": [
    "y = y.astype(np.uint8)"
   ]
  },
  {
   "cell_type": "markdown",
   "id": "8499c591",
   "metadata": {},
   "source": [
    "But Wait! You should always create a test set and set it aside before inspecting the data closely."
   ]
  },
  {
   "cell_type": "code",
   "execution_count": 114,
   "id": "add939f4",
   "metadata": {},
   "outputs": [],
   "source": [
    "X_train,X_test,y_train,y_test = X[:60000],X[60000:],y[:60000],y[60000:]"
   ]
  },
  {
   "cell_type": "markdown",
   "id": "f0521371",
   "metadata": {},
   "source": [
    "Why split that way , the MNIST  dataset is actually already split into a training set (the first 60000 images) and a test set (the last 10000 images)"
   ]
  },
  {
   "cell_type": "markdown",
   "id": "4f9d05a7",
   "metadata": {},
   "source": [
    "The training set is already shuffled for us,which is good because this guarantees that all cros-validation folds will be similar(you don't want one fold to be missing some digits).Moreover , some learning algorithms are sensitive tothe order of the training instances ,and they perform porly if they get many similar instances in a row."
   ]
  },
  {
   "cell_type": "markdown",
   "id": "ebc7e0ee",
   "metadata": {},
   "source": [
    "## Training a Binary Classifier"
   ]
  },
  {
   "cell_type": "markdown",
   "id": "0b067a13",
   "metadata": {},
   "source": [
    "[Navigate to the Table of contents](#Table-of-Contents)"
   ]
  },
  {
   "cell_type": "markdown",
   "id": "42bf1b75",
   "metadata": {},
   "source": [
    "Simplifying the problem for now and only try to identify one digit - for example the number 5. \n",
    "<br>This \"5- detector\" will be an example of a binary classifier, capable of distinguishing between just two classes, 5 and no-5."
   ]
  },
  {
   "cell_type": "code",
   "execution_count": 115,
   "id": "f3232109",
   "metadata": {},
   "outputs": [],
   "source": [
    "y_train_5= (y_train == 5) # True for all 5s , False for all other digits\n",
    "y_test_5 = (y_test == 5)"
   ]
  },
  {
   "cell_type": "markdown",
   "id": "aa71b6ab",
   "metadata": {},
   "source": [
    "We'll pick a classifier and train it . Stochastic Gradient Descent (SGD) classifier, using scikit-learn's SGDClassifier class."
   ]
  },
  {
   "cell_type": "markdown",
   "id": "8cf91767",
   "metadata": {},
   "source": [
    "This classifier has the advantage of being capable of handling very large dataset efficiently.This is in part because SGD deals with training instances independently, one at a time (which also makes SGD well suited for online learning),as we will see later."
   ]
  },
  {
   "cell_type": "code",
   "execution_count": 116,
   "id": "2ec068b2",
   "metadata": {},
   "outputs": [
    {
     "data": {
      "text/html": [
       "<style>#sk-container-id-2 {color: black;background-color: white;}#sk-container-id-2 pre{padding: 0;}#sk-container-id-2 div.sk-toggleable {background-color: white;}#sk-container-id-2 label.sk-toggleable__label {cursor: pointer;display: block;width: 100%;margin-bottom: 0;padding: 0.3em;box-sizing: border-box;text-align: center;}#sk-container-id-2 label.sk-toggleable__label-arrow:before {content: \"▸\";float: left;margin-right: 0.25em;color: #696969;}#sk-container-id-2 label.sk-toggleable__label-arrow:hover:before {color: black;}#sk-container-id-2 div.sk-estimator:hover label.sk-toggleable__label-arrow:before {color: black;}#sk-container-id-2 div.sk-toggleable__content {max-height: 0;max-width: 0;overflow: hidden;text-align: left;background-color: #f0f8ff;}#sk-container-id-2 div.sk-toggleable__content pre {margin: 0.2em;color: black;border-radius: 0.25em;background-color: #f0f8ff;}#sk-container-id-2 input.sk-toggleable__control:checked~div.sk-toggleable__content {max-height: 200px;max-width: 100%;overflow: auto;}#sk-container-id-2 input.sk-toggleable__control:checked~label.sk-toggleable__label-arrow:before {content: \"▾\";}#sk-container-id-2 div.sk-estimator input.sk-toggleable__control:checked~label.sk-toggleable__label {background-color: #d4ebff;}#sk-container-id-2 div.sk-label input.sk-toggleable__control:checked~label.sk-toggleable__label {background-color: #d4ebff;}#sk-container-id-2 input.sk-hidden--visually {border: 0;clip: rect(1px 1px 1px 1px);clip: rect(1px, 1px, 1px, 1px);height: 1px;margin: -1px;overflow: hidden;padding: 0;position: absolute;width: 1px;}#sk-container-id-2 div.sk-estimator {font-family: monospace;background-color: #f0f8ff;border: 1px dotted black;border-radius: 0.25em;box-sizing: border-box;margin-bottom: 0.5em;}#sk-container-id-2 div.sk-estimator:hover {background-color: #d4ebff;}#sk-container-id-2 div.sk-parallel-item::after {content: \"\";width: 100%;border-bottom: 1px solid gray;flex-grow: 1;}#sk-container-id-2 div.sk-label:hover label.sk-toggleable__label {background-color: #d4ebff;}#sk-container-id-2 div.sk-serial::before {content: \"\";position: absolute;border-left: 1px solid gray;box-sizing: border-box;top: 0;bottom: 0;left: 50%;z-index: 0;}#sk-container-id-2 div.sk-serial {display: flex;flex-direction: column;align-items: center;background-color: white;padding-right: 0.2em;padding-left: 0.2em;position: relative;}#sk-container-id-2 div.sk-item {position: relative;z-index: 1;}#sk-container-id-2 div.sk-parallel {display: flex;align-items: stretch;justify-content: center;background-color: white;position: relative;}#sk-container-id-2 div.sk-item::before, #sk-container-id-2 div.sk-parallel-item::before {content: \"\";position: absolute;border-left: 1px solid gray;box-sizing: border-box;top: 0;bottom: 0;left: 50%;z-index: -1;}#sk-container-id-2 div.sk-parallel-item {display: flex;flex-direction: column;z-index: 1;position: relative;background-color: white;}#sk-container-id-2 div.sk-parallel-item:first-child::after {align-self: flex-end;width: 50%;}#sk-container-id-2 div.sk-parallel-item:last-child::after {align-self: flex-start;width: 50%;}#sk-container-id-2 div.sk-parallel-item:only-child::after {width: 0;}#sk-container-id-2 div.sk-dashed-wrapped {border: 1px dashed gray;margin: 0 0.4em 0.5em 0.4em;box-sizing: border-box;padding-bottom: 0.4em;background-color: white;}#sk-container-id-2 div.sk-label label {font-family: monospace;font-weight: bold;display: inline-block;line-height: 1.2em;}#sk-container-id-2 div.sk-label-container {text-align: center;}#sk-container-id-2 div.sk-container {/* jupyter's `normalize.less` sets `[hidden] { display: none; }` but bootstrap.min.css set `[hidden] { display: none !important; }` so we also need the `!important` here to be able to override the default hidden behavior on the sphinx rendered scikit-learn.org. See: https://github.com/scikit-learn/scikit-learn/issues/21755 */display: inline-block !important;position: relative;}#sk-container-id-2 div.sk-text-repr-fallback {display: none;}</style><div id=\"sk-container-id-2\" class=\"sk-top-container\"><div class=\"sk-text-repr-fallback\"><pre>SGDClassifier(random_state=42)</pre><b>In a Jupyter environment, please rerun this cell to show the HTML representation or trust the notebook. <br />On GitHub, the HTML representation is unable to render, please try loading this page with nbviewer.org.</b></div><div class=\"sk-container\" hidden><div class=\"sk-item\"><div class=\"sk-estimator sk-toggleable\"><input class=\"sk-toggleable__control sk-hidden--visually\" id=\"sk-estimator-id-2\" type=\"checkbox\" checked><label for=\"sk-estimator-id-2\" class=\"sk-toggleable__label sk-toggleable__label-arrow\">SGDClassifier</label><div class=\"sk-toggleable__content\"><pre>SGDClassifier(random_state=42)</pre></div></div></div></div></div>"
      ],
      "text/plain": [
       "SGDClassifier(random_state=42)"
      ]
     },
     "execution_count": 116,
     "metadata": {},
     "output_type": "execute_result"
    }
   ],
   "source": [
    "from sklearn.linear_model import SGDClassifier\n",
    "\n",
    "sgd_clf = SGDClassifier(random_state = 42) # relies on randomness hence the name \"stochastic\"\n",
    "sgd_clf.fit(X_train, y_train_5)\n"
   ]
  },
  {
   "cell_type": "code",
   "execution_count": 117,
   "id": "b571bb4c",
   "metadata": {},
   "outputs": [],
   "source": [
    "import pandas as pd\n",
    "some_digit= pd.DataFrame([some_digit] , columns = X_train.columns) # change some_digit from array to dataframe to avoid errors"
   ]
  },
  {
   "cell_type": "code",
   "execution_count": 118,
   "id": "9921e4cd",
   "metadata": {},
   "outputs": [
    {
     "data": {
      "text/plain": [
       "array([ True])"
      ]
     },
     "execution_count": 118,
     "metadata": {},
     "output_type": "execute_result"
    }
   ],
   "source": [
    "sgd_clf.predict(some_digit)"
   ]
  },
  {
   "cell_type": "markdown",
   "id": "af27df0b",
   "metadata": {},
   "source": [
    "The classifier guesses that this image represents a 5 (True). Looks like it guessed right in this particular case!"
   ]
  },
  {
   "cell_type": "markdown",
   "id": "68a271b3",
   "metadata": {},
   "source": [
    "Now let's evaluate this model's performance."
   ]
  },
  {
   "cell_type": "markdown",
   "id": "78cc0fa8",
   "metadata": {},
   "source": [
    "## Performance Measures"
   ]
  },
  {
   "cell_type": "markdown",
   "id": "8fc08e59",
   "metadata": {},
   "source": [
    "[Navigate to the Table of contents](#Table-of-Contents)"
   ]
  },
  {
   "cell_type": "markdown",
   "id": "b0b10e91",
   "metadata": {},
   "source": [
    "Evaluating a classifier is often significantly trickier than evaluating a regressor."
   ]
  },
  {
   "cell_type": "markdown",
   "id": "a3e1cf8f",
   "metadata": {},
   "source": [
    "### Implementing Cross-Validation"
   ]
  },
  {
   "cell_type": "markdown",
   "id": "2c4ceee1",
   "metadata": {},
   "source": [
    "Occasionally you will need more control over the cross-validation process that what Scikit-Learn provides off the shelf. In these cases, you can implement cross-validation yourself."
   ]
  },
  {
   "cell_type": "code",
   "execution_count": 119,
   "id": "d6cdbc48",
   "metadata": {},
   "outputs": [
    {
     "name": "stdout",
     "output_type": "stream",
     "text": [
      "0.9669\n",
      "0.91625\n",
      "0.96785\n"
     ]
    }
   ],
   "source": [
    "from sklearn.model_selection import StratifiedKFold\n",
    "from sklearn.base import clone\n",
    "\n",
    "skfolds = StratifiedKFold(n_splits = 3 ,random_state =42,shuffle= True)\n",
    "\n",
    "for train_index , test_index in skfolds.split(X_train,y_train_5):\n",
    "    clone_clf = clone(sgd_clf)\n",
    "    X_train_folds = X_train.iloc[train_index]\n",
    "    y_train_folds = y_train_5[train_index]\n",
    "    X_test_fold = X_train.iloc[test_index]\n",
    "    y_test_fold = y_train_5[test_index]\n",
    "    \n",
    "    clone_clf.fit(X_train_folds, y_train_folds)\n",
    "    y_pred = clone_clf.predict(X_test_fold)\n",
    "    n_correct = sum(y_pred == y_test_fold)\n",
    "    print(n_correct / len(y_pred)) "
   ]
  },
  {
   "cell_type": "markdown",
   "id": "f4f4e14a",
   "metadata": {},
   "source": [
    "The StratifiedKFold class performs stratified sampling to produce folds that contain a representative ratio of each class. At each iteration the code creates a clone of the classifier , trains that clone on the training folds, and makes predictions on the test fold. <br> Then it counts the number of correct predictions and outputs the ration of correct predictions"
   ]
  },
  {
   "cell_type": "markdown",
   "id": "07ae1d8a",
   "metadata": {},
   "source": [
    "Recall that we don't want to touch our test set before we evaluate our model. Thus we split the training dataset into K folds."
   ]
  },
  {
   "cell_type": "markdown",
   "id": "e79bf7bc",
   "metadata": {},
   "source": [
    "Remember that K fold cross-validation means splitting the training set into K folds (in this case, three), then making predictions and evaluating them on each fold\n",
    " using a model trained on the remaining folds."
   ]
  },
  {
   "cell_type": "code",
   "execution_count": 120,
   "id": "294d1446",
   "metadata": {},
   "outputs": [
    {
     "data": {
      "text/plain": [
       "array([0.95035, 0.96035, 0.9604 ])"
      ]
     },
     "execution_count": 120,
     "metadata": {},
     "output_type": "execute_result"
    }
   ],
   "source": [
    "from sklearn.model_selection import cross_val_score \n",
    "cross_val_score(sgd_clf, X_train,y_train_5 , cv =3 , scoring = \"accuracy\")"
   ]
  },
  {
   "cell_type": "markdown",
   "id": "3652c0fb",
   "metadata": {},
   "source": [
    "Wow! Above 93% accuracy (ratio of correct predictions) on all cross -validation folds?\n",
    "This looks amazing , doesn't it? Well , before you get too excited , let's look at a very dumb classifier that just classifies every single image in the \"not-5\" class."
   ]
  },
  {
   "cell_type": "code",
   "execution_count": 121,
   "id": "cede785e",
   "metadata": {},
   "outputs": [],
   "source": [
    "from sklearn.base import BaseEstimator\n",
    "\n",
    "class Never5Classifier(BaseEstimator):\n",
    "    def fit(self, X, y= None):\n",
    "        pass\n",
    "    def predict(self, X):\n",
    "        return np.zeros((len(X),1),dtype = bool)"
   ]
  },
  {
   "cell_type": "code",
   "execution_count": 122,
   "id": "9269a913",
   "metadata": {},
   "outputs": [
    {
     "data": {
      "text/plain": [
       "array([0.91125, 0.90855, 0.90915])"
      ]
     },
     "execution_count": 122,
     "metadata": {},
     "output_type": "execute_result"
    }
   ],
   "source": [
    "# Finding this model's accuracy\n",
    "never_5_clf = Never5Classifier()\n",
    "cross_val_score(never_5_clf,X_train , y_train_5,cv=3,scoring=\"accuracy\")"
   ]
  },
  {
   "cell_type": "markdown",
   "id": "d29e796f",
   "metadata": {},
   "source": [
    "That's right, it has over 90% accuracy! This is simply because only about 10% of the images are 5s , so if you always guess that an image is not a 5,you will be right about 90% of the time."
   ]
  },
  {
   "cell_type": "markdown",
   "id": "6ecc53b8",
   "metadata": {},
   "source": [
    "This demonstrates why accuracy is generally not the preferred performance measure for classifiers, especially when you are dealing with skewed datasets (i.e., when some classes are much more frequent than others)"
   ]
  },
  {
   "cell_type": "markdown",
   "id": "afb3e98d",
   "metadata": {},
   "source": [
    "### Confusion Matrix"
   ]
  },
  {
   "cell_type": "markdown",
   "id": "e307eb6e",
   "metadata": {},
   "source": [
    "The general idea is to count the number of times instances of class A are classified as class B. <br>For example , to know the number of times the classifier confused images of 5s with 3s, you would look in the fifth row and third column of the confusion matrix. "
   ]
  },
  {
   "cell_type": "markdown",
   "id": "3b232631",
   "metadata": {},
   "source": [
    "To compute the confusion matrix, you first need to have a set of predictions so that they can be compared to the actual targets. \n",
    "Remember that you want to use the test set only at the very end of your project, once you have a classifier that you are ready to launch. \n",
    "\n",
    "<br>Instead, you can use the cross_val_predict() function:"
   ]
  },
  {
   "cell_type": "code",
   "execution_count": 123,
   "id": "f7f9c9fe",
   "metadata": {},
   "outputs": [],
   "source": [
    "from sklearn.model_selection import cross_val_predict\n",
    "y_train_pred = cross_val_predict(sgd_clf, X_train , y_train_5 , cv =3 )"
   ]
  },
  {
   "cell_type": "markdown",
   "id": "27f5507d",
   "metadata": {},
   "source": [
    "just like cross_val_score() function, the cross_val_predict() performs K-fold cross-validation,but instead of returning the evaluation scores, it return the predictions made on each test fold."
   ]
  },
  {
   "cell_type": "code",
   "execution_count": 124,
   "id": "d4cba16f",
   "metadata": {},
   "outputs": [
    {
     "data": {
      "text/plain": [
       "array([[53892,   687],\n",
       "       [ 1891,  3530]], dtype=int64)"
      ]
     },
     "execution_count": 124,
     "metadata": {},
     "output_type": "execute_result"
    }
   ],
   "source": [
    "from sklearn.metrics import confusion_matrix\n",
    "confusion_matrix(y_train_5, y_train_pred)"
   ]
  },
  {
   "cell_type": "markdown",
   "id": "ee35b706",
   "metadata": {},
   "source": [
    "Each row in a confusion matrix represents an **actual class**, while each column represents a **predicted class**."
   ]
  },
  {
   "cell_type": "markdown",
   "id": "d8110899",
   "metadata": {},
   "source": [
    "The first row of this matrix considers non-5 images (the *negative class*): 53892 of them were correctly classified as non-5s (they are called *true negatives*), while the remaining 687 were wrongly classified as 5s(*false positives*).<br>\n",
    "\n",
    "The second row considers the images of 5s(the *positive class*): 1891 were wrongly classified as non-5s (*false negatives*), while the remaining 35301 were correctly classified as 5s (*true positives*).    \n"
   ]
  },
  {
   "cell_type": "markdown",
   "id": "946f0080",
   "metadata": {},
   "source": [
    "A perfect classifier would have only true positives and true negatives, so its confusion matrix would have nonzero values only on its main diagonal (top left to bottom right):"
   ]
  },
  {
   "cell_type": "code",
   "execution_count": 125,
   "id": "37d77d5d",
   "metadata": {},
   "outputs": [
    {
     "data": {
      "text/plain": [
       "array([[54579,     0],\n",
       "       [    0,  5421]], dtype=int64)"
      ]
     },
     "execution_count": 125,
     "metadata": {},
     "output_type": "execute_result"
    }
   ],
   "source": [
    "y_train_perfect_predictions = y_train_5 # pretend we reached perfection\n",
    "confusion_matrix(y_train_5, y_train_perfect_predictions)"
   ]
  },
  {
   "cell_type": "markdown",
   "id": "393907bf",
   "metadata": {},
   "source": [
    "The confusion matrix gives you a lot of information, but sometimes you may prefer a more concise metric. An interesting one to look at is the accuracy of the positive predictions; this is called the <italic>precision of the classifier</italic>"
   ]
  },
  {
   "cell_type": "markdown",
   "id": "655c72af",
   "metadata": {},
   "source": [
    "$$\\begin{eqnarray*}\n",
    "precision =  \\frac{TP}{TP + FP}\n",
    "\\end{eqnarray*}$$"
   ]
  },
  {
   "cell_type": "markdown",
   "id": "39a130d7",
   "metadata": {},
   "source": [
    "$\\text{TP}$ is the number of true positives, and $\\text{FP}$ is the number of false positives."
   ]
  },
  {
   "cell_type": "markdown",
   "id": "d0eea72c",
   "metadata": {},
   "source": [
    "So precision is typically used along with another metric named **recall**, also called **sensitivity** or the **true positive rate(TPR)**: This is the ratio of positive instances that are correctly detected by the classifier"
   ]
  },
  {
   "cell_type": "markdown",
   "id": "a05ce302",
   "metadata": {},
   "source": [
    "$$\n",
    "\\begin{eqnarray}\n",
    "recall = \\frac{TP}{TP + FN}\n",
    "\\end{eqnarray}\n",
    "$$"
   ]
  },
  {
   "cell_type": "markdown",
   "id": "5c3d5abb",
   "metadata": {},
   "source": [
    "${FN}$ is, of course, the number of false negatives."
   ]
  },
  {
   "cell_type": "markdown",
   "id": "7e8ef80c",
   "metadata": {},
   "source": [
    "$$\n",
    "\\begin{array}{|c|c|c|}\n",
    "\\hline\n",
    "\\text{Actual \\\\ Predicted} & \\text{Negative} & \\text{Positive} \\\\\n",
    "\\hline\n",
    "\\text{Negative} & \\text{TN} & \\text{FP} \\\\\n",
    "\\hline\n",
    "\\text{Positive} & \\text{FN} & \\text{TP} \\\\\n",
    "\\hline\n",
    "\\end{array}\n",
    "$$"
   ]
  },
  {
   "cell_type": "markdown",
   "id": "32df0abb",
   "metadata": {},
   "source": [
    "### Precision and Recall "
   ]
  },
  {
   "cell_type": "code",
   "execution_count": 126,
   "id": "50f3033a",
   "metadata": {},
   "outputs": [
    {
     "data": {
      "text/plain": [
       "0.8370879772350012"
      ]
     },
     "execution_count": 126,
     "metadata": {},
     "output_type": "execute_result"
    }
   ],
   "source": [
    "from sklearn.metrics import precision_score, recall_score\n",
    "precision_score(y_train_5,y_train_pred) # == 35301 / (35301 + 687)"
   ]
  },
  {
   "cell_type": "code",
   "execution_count": 127,
   "id": "2bc9b7c4",
   "metadata": {},
   "outputs": [
    {
     "data": {
      "text/plain": [
       "0.6511713705958311"
      ]
     },
     "execution_count": 127,
     "metadata": {},
     "output_type": "execute_result"
    }
   ],
   "source": [
    "recall_score(y_train_5, y_train_pred) # == 35301 / (35301 + 1891 )"
   ]
  },
  {
   "cell_type": "markdown",
   "id": "4a5d2d34",
   "metadata": {},
   "source": [
    "Now your  5-detector does not look as shiny as it did when you looked at its accuracy.<br> When it claims an image represents a 5, it is correctly only 65.1% of the time. Moreover, it only detects 83.7% of the 5s."
   ]
  },
  {
   "cell_type": "markdown",
   "id": "96d1e3fc",
   "metadata": {},
   "source": [
    "Combining precision and recall into a single metric called the F_1 score , in particular if you need a simple way to compare two classifiers.\n",
    "\n",
    "The F_1 score is the *harmonic mean* of precision and recall. Whereas the regular mean treats all values equally , the harmonic mean gives much more weight to low values.\n",
    "\n",
    "As a result, the classifier will only get a high F_1 score if both recall and precision are high."
   ]
  },
  {
   "cell_type": "markdown",
   "id": "d084d24f",
   "metadata": {},
   "source": [
    "$$\n",
    "\\begin{eqnarray}\n",
    "F1 =\\frac{2}{\\frac{1}{precision} + \\frac{1}{recall}} = 2 * \\frac{precision *  recall}{precision + recall } = \\frac{TP}{TP + \\frac{FN + FP}{2}}\n",
    "\\end{eqnarray}\n",
    "$$"
   ]
  },
  {
   "cell_type": "code",
   "execution_count": 128,
   "id": "552e3cb5",
   "metadata": {},
   "outputs": [
    {
     "data": {
      "text/plain": [
       "0.7325171197343846"
      ]
     },
     "execution_count": 128,
     "metadata": {},
     "output_type": "execute_result"
    }
   ],
   "source": [
    "from sklearn.metrics import f1_score\n",
    "f1_score(y_train_5,y_train_pred)"
   ]
  },
  {
   "cell_type": "markdown",
   "id": "386d0575",
   "metadata": {},
   "source": [
    " The F_1 score favors classifiers that have similar precision and recall."
   ]
  },
  {
   "cell_type": "markdown",
   "id": "5e40f3b7",
   "metadata": {},
   "source": [
    "Unfortunately, you can’t have it both ways: increasing precision reduces\n",
    " recall, and vice versa. This is called the **precision/recall trade-off**"
   ]
  },
  {
   "cell_type": "markdown",
   "id": "b6ec40de",
   "metadata": {},
   "source": [
    "### Precision / Recall Trade-off"
   ]
  },
  {
   "cell_type": "markdown",
   "id": "40fc39c0",
   "metadata": {},
   "source": [
    "Looking at SGDClassifier ,it computes a score based on a *decision function.*\n",
    "If that score is greater than a threshfold , it assign the instance to the positive class; otherwise it assign it to the negative class.\n",
    "\n",
    "Suppose the **decision threshold** is positioned at the central arrow (between the two 5s): you will find 4 true positives (actual 5s) on the right of that threshold, and 1 false positive (actually a 6).\n",
    "    \n",
    "Therefore , with that threshold , the precision is 80% (4 out of 5).But out of 6 actual 5s, the classifier only detects 4, so the recall is 67% (4 out of 6).\n",
    "If\n",
    " you raise the threshold (move it to the arrow on the right), the false positive\n",
    " (the 6) becomes a true negative, thereby increasing the precision (up to\n",
    " 100% in this case), but one true positive becomes a false negative,\n",
    " decreasing recall down to 50%. Conversely, lowering the threshold\n",
    " increases recall and reduces precision"
   ]
  },
  {
   "cell_type": "markdown",
   "id": "5d8d5797",
   "metadata": {},
   "source": [
    "<img src=\"./precision&recalldemo_ml.jpeg\" alt=\"Alt Text\" style=\"width:800px;\"/>"
   ]
  },
  {
   "cell_type": "markdown",
   "id": "58a72dbe",
   "metadata": {},
   "source": [
    "Scikit-Learn does not let you set the threshold directly , but it does give you access to the decision scores that it uses to make predictions.\n",
    "<br> Instead of calling the classifier's **predict()** method, you can call its **decision_function()** method, which returns a score for each instance, and then use any threshold you want to make predictions based on those scores:"
   ]
  },
  {
   "cell_type": "code",
   "execution_count": 129,
   "id": "056a7b77",
   "metadata": {},
   "outputs": [
    {
     "data": {
      "text/plain": [
       "array([2164.22030239])"
      ]
     },
     "execution_count": 129,
     "metadata": {},
     "output_type": "execute_result"
    }
   ],
   "source": [
    "y_scores = sgd_clf.decision_function(some_digit)\n",
    "y_scores"
   ]
  },
  {
   "cell_type": "code",
   "execution_count": 130,
   "id": "c1f7a8dc",
   "metadata": {},
   "outputs": [
    {
     "data": {
      "text/plain": [
       "array([ True])"
      ]
     },
     "execution_count": 130,
     "metadata": {},
     "output_type": "execute_result"
    }
   ],
   "source": [
    "threshold = 0\n",
    "y_some_digit_pred = (y_scores > threshold)\n",
    "y_some_digit_pred"
   ]
  },
  {
   "cell_type": "markdown",
   "id": "183f14e0",
   "metadata": {},
   "source": [
    "The SGDClassifier uses a threshold equal to 0 , so the previous code returns the same result as the predict() method(i.e., True)"
   ]
  },
  {
   "cell_type": "markdown",
   "id": "da8549d4",
   "metadata": {},
   "source": [
    "Let's raise the threshold:"
   ]
  },
  {
   "cell_type": "code",
   "execution_count": 131,
   "id": "55549604",
   "metadata": {},
   "outputs": [
    {
     "data": {
      "text/plain": [
       "array([False])"
      ]
     },
     "execution_count": 131,
     "metadata": {},
     "output_type": "execute_result"
    }
   ],
   "source": [
    "threshold = 8000\n",
    "y_some_digit_pred = (y_scores > threshold)\n",
    "y_some_digit_pred"
   ]
  },
  {
   "cell_type": "markdown",
   "id": "b105930c",
   "metadata": {},
   "source": [
    "This confirms that raising the threshold decreases recall . The image actually represents a 5 ,and the classifier detects it when the threshold is 0 ,but it misses it when the threshold is increased to 8000"
   ]
  },
  {
   "cell_type": "markdown",
   "id": "5db48615",
   "metadata": {},
   "source": [
    "#### Deciding which threshold to use?"
   ]
  },
  {
   "cell_type": "markdown",
   "id": "3f6765e8",
   "metadata": {},
   "source": [
    "First, use the cross_val_predict() function to get the scores of all instances in the training ser, but this time specify that you want to return decision scores instead of predictions:"
   ]
  },
  {
   "cell_type": "code",
   "execution_count": 132,
   "id": "659a9c60",
   "metadata": {},
   "outputs": [],
   "source": [
    "y_scores = cross_val_predict(sgd_clf , X_train,y_train_5, cv=3, method=\"decision_function\")"
   ]
  },
  {
   "cell_type": "code",
   "execution_count": 133,
   "id": "989308e1",
   "metadata": {},
   "outputs": [],
   "source": [
    "# with these scores use precision_recall_curve() function to compute precision and recall for all possible thresholds:\n",
    "from sklearn.metrics import precision_recall_curve\n",
    "precisions, recalls ,thresholds = precision_recall_curve(y_train_5,y_scores)"
   ]
  },
  {
   "cell_type": "markdown",
   "id": "b4bf017e",
   "metadata": {},
   "source": [
    "Finally , use matplotlib to plot precision and recall as functions of the threshold  value"
   ]
  },
  {
   "cell_type": "code",
   "execution_count": 134,
   "id": "11071194",
   "metadata": {
    "scrolled": true
   },
   "outputs": [
    {
     "data": {
      "image/png": "[encoded data removed]",
      "text/plain": [
       "<Figure size 1500x400 with 1 Axes>"
      ]
     },
     "metadata": {},
     "output_type": "display_data"
    }
   ],
   "source": [
    "import matplotlib.pyplot as plt\n",
    "\n",
    "def plot_precision_recall_vs_threshold(precisions, recalls, thresholds, threshold):\n",
    "    fig,ax = plt.subplots(figsize=(15,4))\n",
    "    # Plot Precision and Recall against Threshold\n",
    "    ax.plot(thresholds, precisions[:-1], \"b-\", label=\"Precision\")\n",
    "    ax.plot(thresholds, recalls[:-1], \"g-\", label=\"Recall\")\n",
    "    # find the index of the threshold \n",
    "    threshold_index = next(i for i , t in enumerate(thresholds) if t>= threshold)\n",
    "    precision_at_threshold = precisions[threshold_index]\n",
    "    recall_at_threshold = recalls[threshold_index]\n",
    "    # Add horizontal lines for precision and recall at the threshold\n",
    "    ax.axhline(y=precision_at_threshold, color = \"b\", ls = \":\", label = \"Precision at Threshold\")\n",
    "    \n",
    "    # Highlight the specified threshold with a vertical line\n",
    "    ax.axvline(x=threshold, color='r', linestyle=':', label='Threshold')\n",
    "    #ax.sextxlimit(-50000 , 50000)\n",
    "    ax.set_xlabel(\"Threshold\")\n",
    "    ax.set_ylabel(\"Score\")\n",
    "    ax.set_title(\"Precision and Recall vs Threshold\")\n",
    "    ax.legend()\n",
    "    \n",
    "plot_precision_recall_vs_threshold(precisions, recalls, thresholds, threshold)\n",
    "plt.show()"
   ]
  },
  {
   "cell_type": "markdown",
   "id": "2a40fa23",
   "metadata": {},
   "source": [
    "Another way to select a good precision/recall trade-off is to plot precision directly against recall."
   ]
  },
  {
   "cell_type": "markdown",
   "id": "b3d272fc",
   "metadata": {},
   "source": [
    "#### Precision/ Recall (PR) curve"
   ]
  },
  {
   "cell_type": "code",
   "execution_count": 135,
   "id": "c653595f",
   "metadata": {
    "scrolled": true
   },
   "outputs": [
    {
     "data": {
      "image/png": "[encoded data removed]",
      "text/plain": [
       "<Figure size 1500x400 with 1 Axes>"
      ]
     },
     "metadata": {},
     "output_type": "display_data"
    }
   ],
   "source": [
    "fig,ax = plt.subplots(figsize = (15,4))\n",
    "ax.plot(recalls, precisions,\"b-\")\n",
    "ax.axvline(x=0.42,c=\"r\",ls=\"--\")\n",
    "ax.set_xlabel(\"Recall\")\n",
    "ax.set_ylabel(\"Precision\")\n",
    "ax.set_xlim(0,1)\n",
    "plt.show()"
   ]
  },
  {
   "cell_type": "markdown",
   "id": "65b4df7e",
   "metadata": {},
   "source": [
    "The precision starts to fall sharply around 80% recall. You will probably want to select a precision/recall trade-off just before that drop - for example , at around 60%."
   ]
  },
  {
   "cell_type": "markdown",
   "id": "25fe7285",
   "metadata": {},
   "source": [
    "Suppose you decide to aim for 90% precision. You look up the first plot and find that you need to use a threshold of about 8,000. To be more precise you can search for the lowest threshold that gives you at least 90% precision.(np.argmax() will give you the first index of the maximum valu, which in this case means the first True value):"
   ]
  },
  {
   "cell_type": "code",
   "execution_count": 136,
   "id": "2f4ddae9",
   "metadata": {},
   "outputs": [],
   "source": [
    "threshold_90_precision = thresholds[np.argmax(precisions >= 0.90)]#~3370"
   ]
  },
  {
   "cell_type": "markdown",
   "id": "5004a04c",
   "metadata": {},
   "source": [
    "To make predictions (on the training set for now),instead of calling the classifier's predict() method, you can run this code:"
   ]
  },
  {
   "cell_type": "code",
   "execution_count": 137,
   "id": "a3f6a493",
   "metadata": {},
   "outputs": [],
   "source": [
    "y_train_pred_90 = (y_scores >= threshold_90_precision)"
   ]
  },
  {
   "cell_type": "code",
   "execution_count": 138,
   "id": "a17f0729",
   "metadata": {},
   "outputs": [
    {
     "data": {
      "text/plain": [
       "0.9000345901072293"
      ]
     },
     "execution_count": 138,
     "metadata": {},
     "output_type": "execute_result"
    }
   ],
   "source": [
    "precision_score(y_train_5, y_train_pred_90)"
   ]
  },
  {
   "cell_type": "code",
   "execution_count": 139,
   "id": "3aad15be",
   "metadata": {},
   "outputs": [
    {
     "data": {
      "text/plain": [
       "0.4799852425751706"
      ]
     },
     "execution_count": 139,
     "metadata": {},
     "output_type": "execute_result"
    }
   ],
   "source": [
    "recall_score(y_train_5,y_train_pred_90)"
   ]
  },
  {
   "cell_type": "markdown",
   "id": "4eb3af7d",
   "metadata": {},
   "source": [
    "Great, you have a 90% precision classifier! A high-precision classifier is not very useful if its recall is too low!"
   ]
  },
  {
   "cell_type": "markdown",
   "id": "9269c580",
   "metadata": {},
   "source": [
    "#### The ROC Curve"
   ]
  },
  {
   "cell_type": "markdown",
   "id": "d14b4e88",
   "metadata": {},
   "source": [
    "The *receiving operating characteristic* (ROC) curve is another common tool used with binary classifiers."
   ]
  },
  {
   "cell_type": "markdown",
   "id": "caa87b79",
   "metadata": {},
   "source": [
    "Similar to the precision/recall curve, but instead of plotting precision versus recall, the ROC curve plots the *true positive rate(another name for recall) against the *false positive rate(FPR)**"
   ]
  },
  {
   "cell_type": "markdown",
   "id": "0d4a7366",
   "metadata": {},
   "source": [
    "The FPR is the ratio of negative instances that are incorrectly classified as positive. It is equal to 1- the *true negative rate(TNR)*, which is the ratio of negative instances classified as negative."
   ]
  },
  {
   "cell_type": "markdown",
   "id": "3b53e63e",
   "metadata": {},
   "source": [
    "The TNR is also called *specificity*.Hence the ROC curve plots *sensitivity* (recall) versus 1- *specificity*."
   ]
  },
  {
   "cell_type": "code",
   "execution_count": 140,
   "id": "ae8b1f8f",
   "metadata": {},
   "outputs": [],
   "source": [
    "from sklearn.metrics import roc_curve #using roc_curve function to compute the TPR and FPR for various threshold values:\n",
    "fpr, tpr, thresholds = roc_curve(y_train_5,y_scores)"
   ]
  },
  {
   "cell_type": "code",
   "execution_count": 141,
   "id": "5680a773",
   "metadata": {
    "scrolled": true
   },
   "outputs": [
    {
     "data": {
      "image/png": "[encoded data removed]",
      "text/plain": [
       "<Figure size 640x480 with 1 Axes>"
      ]
     },
     "metadata": {},
     "output_type": "display_data"
    }
   ],
   "source": [
    "# then you can plot the FPR against the TPR using Matplotlib\n",
    "def plot_roc_curve(fpr, tpr, label = None):\n",
    "    plt.plot(fpr, tpr ,linewidth = 2 , label = label)\n",
    "    plt.plot([0,1],[0,1],'k--') #Dashed diagonal\n",
    "    plt.grid(True)\n",
    "    plt.xlabel(\"False Positive Rate\") # Add axis labels and grid\n",
    "    plt.ylabel(\"True Positive Rate (Recall)\")\n",
    "    \n",
    "plot_roc_curve(fpr,tpr)\n",
    "plt.show()"
   ]
  },
  {
   "cell_type": "markdown",
   "id": "3ad54582",
   "metadata": {},
   "source": [
    "The dotted line represents the ROC curve of a purely random classifier; a good classifier stays as far away from that line as possible (toward the top-left corner)"
   ]
  },
  {
   "cell_type": "markdown",
   "id": "7f4f0122",
   "metadata": {},
   "source": [
    "One way to compare classifiers is to measure the area under the curve(AUC).\n",
    "\n",
    "A perfect classifier will have a ROC AUC equal to 1, whereas a purely random classifier will have a ROC AUC equal to 0.5."
   ]
  },
  {
   "cell_type": "code",
   "execution_count": 142,
   "id": "d3905620",
   "metadata": {},
   "outputs": [
    {
     "data": {
      "text/plain": [
       "0.9604938554008616"
      ]
     },
     "execution_count": 142,
     "metadata": {},
     "output_type": "execute_result"
    }
   ],
   "source": [
    "from sklearn.metrics import roc_auc_score\n",
    "roc_auc_score(y_train_5, y_scores)"
   ]
  },
  {
   "cell_type": "markdown",
   "id": "b325f508",
   "metadata": {},
   "source": [
    "##### Note"
   ]
  },
  {
   "cell_type": "markdown",
   "id": "36ad6db1",
   "metadata": {},
   "source": [
    "Since the ROC curve is so similar to the precion/recall(PR) curve, you may wonder how to decide which one to use. "
   ]
  },
  {
   "cell_type": "markdown",
   "id": "34158034",
   "metadata": {},
   "source": [
    "**As a rule of thumb**,you should prefer the PR curve whenever the positive class is rare or when you care more about the false positives than the false negatives. Otherwise use the ROC curve."
   ]
  },
  {
   "cell_type": "markdown",
   "id": "b74d1f2b",
   "metadata": {},
   "source": [
    "Looking at our ROC curve (and the ROC AUC score) you may think that the classifier is really good. But this is mostly because there are few positives (5s) compared to the negatives (non-5s). In contrast , the PR curve makes it clear that the classifier has room for improvement (the curve could be closer to the top-left corner)"
   ]
  },
  {
   "cell_type": "markdown",
   "id": "600992a5",
   "metadata": {},
   "source": [
    "##### Comparing the same with the RandomForestClassifier"
   ]
  },
  {
   "cell_type": "code",
   "execution_count": 143,
   "id": "f8aa66c8",
   "metadata": {},
   "outputs": [],
   "source": [
    "from sklearn.ensemble import RandomForestClassifier\n",
    "\n",
    "forest_clf = RandomForestClassifier(random_state =42)\n",
    "y_probas_forest = cross_val_predict(forest_clf, X_train , y_train_5, cv = 3, method = \"predict_proba\") # we use this method since random forest classifier lack the decision_function() method. "
   ]
  },
  {
   "cell_type": "markdown",
   "id": "891cc295",
   "metadata": {},
   "source": [
    "The roc_curve() function expects labels and scores, but instead of scores you can give it class probabilites. "
   ]
  },
  {
   "cell_type": "code",
   "execution_count": 144,
   "id": "4c695c17",
   "metadata": {},
   "outputs": [],
   "source": [
    "# using the positive class's probability as the score\n",
    "y_scores_forest = y_probas_forest[:,1] # score = proba of positive class\n",
    "fpr_forest , tpr_forest, thresholds_forest = roc_curve(y_train_5, y_scores_forest)"
   ]
  },
  {
   "cell_type": "code",
   "execution_count": 145,
   "id": "f2a57d19",
   "metadata": {
    "scrolled": true
   },
   "outputs": [
    {
     "data": {
      "image/png": "[encoded data removed]",
      "text/plain": [
       "<Figure size 640x480 with 1 Axes>"
      ]
     },
     "metadata": {},
     "output_type": "display_data"
    }
   ],
   "source": [
    "# plotting the first ROC curve as well to see how they compare\n",
    "plt.plot(fpr, tpr ,\"b:\", label =\"SGD\")\n",
    "plot_roc_curve(fpr_forest,tpr_forest, \"Random Forest\")\n",
    "plt.legend(loc=\"lower right\")\n",
    "plt.show()"
   ]
  },
  {
   "cell_type": "markdown",
   "id": "96737eb3",
   "metadata": {},
   "source": [
    "As you can see, the Random Forest Classifier is superior to & looks much better than the SGD classifier because its ROC curve is much close to the top-left corner, and it has a greater AUC"
   ]
  },
  {
   "cell_type": "code",
   "execution_count": 146,
   "id": "d681ca51",
   "metadata": {},
   "outputs": [
    {
     "data": {
      "text/plain": [
       "0.9983436731328145"
      ]
     },
     "execution_count": 146,
     "metadata": {},
     "output_type": "execute_result"
    }
   ],
   "source": [
    "roc_auc_score(y_train_5,y_scores_forest)"
   ]
  },
  {
   "cell_type": "code",
   "execution_count": 147,
   "id": "f40cd9b4",
   "metadata": {},
   "outputs": [
    {
     "data": {
      "text/plain": [
       "0.9897468089558485"
      ]
     },
     "execution_count": 147,
     "metadata": {},
     "output_type": "execute_result"
    }
   ],
   "source": [
    "from sklearn.metrics import precision_score , recall_score\n",
    "# since y_scores_forest is continous with probabilities , changing it to binary \n",
    "y_scores_forest_bin = (y_scores_forest>=0.5)\n",
    "precision_score(y_train_5,y_scores_forest_bin)"
   ]
  },
  {
   "cell_type": "code",
   "execution_count": 148,
   "id": "8274fb88",
   "metadata": {},
   "outputs": [
    {
     "data": {
      "text/plain": [
       "0.8725327430363402"
      ]
     },
     "execution_count": 148,
     "metadata": {},
     "output_type": "execute_result"
    }
   ],
   "source": [
    "recall_score(y_train_5,y_scores_forest_bin)"
   ]
  },
  {
   "cell_type": "markdown",
   "id": "f49af058",
   "metadata": {},
   "source": [
    "Measuring the precision and recall scores: you should find 99.0% precision and 87% recall .Not too bad!\n",
    "\n",
    "Let's try detecting more than just the 5s.[Multiclass Classification](#Multiclass-Classification)"
   ]
  },
  {
   "cell_type": "markdown",
   "id": "cdfae3f7",
   "metadata": {},
   "source": [
    "## Multiclass Classification"
   ]
  },
  {
   "cell_type": "markdown",
   "id": "f38d1fea",
   "metadata": {},
   "source": [
    "[Navigate to the Table of contents](#Table-of-Contents)"
   ]
  },
  {
   "cell_type": "markdown",
   "id": "cca964b1",
   "metadata": {},
   "source": [
    "Binary classifiers distinguish between two classes , *multiclass classifiers* (also called *multinomial classifiers*) can distinguish between more than two classes."
   ]
  },
  {
   "cell_type": "markdown",
   "id": "231a602b",
   "metadata": {},
   "source": [
    "One way to create a system that can classify the digit images into 10 classes (from 0 to 9) is to train 10 binary classifiers , one for each digit (a 0-detector, a 1-detector,a 2-detector, and so on)Then when you want to classify an\n",
    " image, you get the decision score from each classifier for that image and\n",
    " you select the class whose classifier outputs the highest score. This is called\n",
    " the *one-versus-the-rest* (OvR) strategy (also called *one-versus-all*)"
   ]
  },
  {
   "cell_type": "markdown",
   "id": "da73f6b6",
   "metadata": {},
   "source": [
    "Another strategy is to train a binary classifie for every pair of digits: one to distinguish 0s and 1s, another to distinguish 0s and 2s , another for 1s and 2s , and so on. This is called the *one-versus-one* (OvO) strategy. If there are N classes, you need to train *N * (N-1)/2* classifiers."
   ]
  },
  {
   "cell_type": "markdown",
   "id": "177336b4",
   "metadata": {},
   "source": [
    "For the MNIST problem , this means training 45 binary classifiers!\n",
    "When you want  to classify an image , you have to run the image through all 45 classifiers and see which class wins the mosts duels.\n",
    "The main advantage of OvO  is that each classifier only needs to be trained on the part of the training set for the two classes that it must distinguish."
   ]
  },
  {
   "cell_type": "markdown",
   "id": "c99aad3f",
   "metadata": {},
   "source": [
    "Some algorithms (such as Support Vector Machine classifiers) scale poorly with the size of the training set.For these algorithms OvO is preferred because it is faster to train many classifiers on small training sets than to train few classifiers on large training sets."
   ]
  },
  {
   "cell_type": "markdown",
   "id": "d741af0d",
   "metadata": {},
   "source": [
    "For most binary classification algorithms, however, OvR, is preferred"
   ]
  },
  {
   "cell_type": "markdown",
   "id": "540ccb64",
   "metadata": {},
   "source": [
    "Scikit-Learn detects when you try to use a binary classification algorithm for a multiclass classification task and it automatically runs OvR or OvO, depending on the algorithm ."
   ]
  },
  {
   "cell_type": "code",
   "execution_count": 151,
   "id": "4bb8c4ce",
   "metadata": {
    "scrolled": true
   },
   "outputs": [
    {
     "data": {
      "text/plain": [
       "array([5], dtype=uint8)"
      ]
     },
     "execution_count": 151,
     "metadata": {},
     "output_type": "execute_result"
    }
   ],
   "source": [
    "# trying a support vector machine classifier\n",
    "from sklearn.svm import SVC\n",
    "svm_clf = SVC()\n",
    "svm_clf.fit(X_train, y_train) # y_train , not y_train_5\n",
    "svm_clf.predict(some_digit)"
   ]
  },
  {
   "cell_type": "code",
   "execution_count": 152,
   "id": "39281c14",
   "metadata": {},
   "outputs": [
    {
     "data": {
      "text/plain": [
       "array([[ 1.72501977,  2.72809088,  7.2510018 ,  8.3076379 , -0.31087254,\n",
       "         9.3132482 ,  1.70975103,  2.76765202,  6.23049537,  4.84771048]])"
      ]
     },
     "execution_count": 152,
     "metadata": {},
     "output_type": "execute_result"
    }
   ],
   "source": [
    "some_digit_scores = svm_clf.decision_function(some_digit)\n",
    "some_digit_scores"
   ]
  },
  {
   "cell_type": "markdown",
   "id": "0ddc0dcc",
   "metadata": {},
   "source": [
    "The highest score  is indeed the one corresponding to class 5. (remember it is classifying 0 to 9)"
   ]
  },
  {
   "cell_type": "code",
   "execution_count": 153,
   "id": "4af66249",
   "metadata": {},
   "outputs": [
    {
     "data": {
      "text/plain": [
       "5"
      ]
     },
     "execution_count": 153,
     "metadata": {},
     "output_type": "execute_result"
    }
   ],
   "source": [
    "np.argmax(some_digit_scores)"
   ]
  },
  {
   "cell_type": "code",
   "execution_count": 154,
   "id": "d17dc4dd",
   "metadata": {},
   "outputs": [
    {
     "data": {
      "text/plain": [
       "array([0, 1, 2, 3, 4, 5, 6, 7, 8, 9], dtype=uint8)"
      ]
     },
     "execution_count": 154,
     "metadata": {},
     "output_type": "execute_result"
    }
   ],
   "source": [
    "svm_clf.classes_"
   ]
  },
  {
   "cell_type": "code",
   "execution_count": 155,
   "id": "037f9d39",
   "metadata": {},
   "outputs": [
    {
     "data": {
      "text/plain": [
       "5"
      ]
     },
     "execution_count": 155,
     "metadata": {},
     "output_type": "execute_result"
    }
   ],
   "source": [
    "svm_clf.classes_[5]"
   ]
  },
  {
   "cell_type": "markdown",
   "id": "0bf4e20e",
   "metadata": {},
   "source": [
    "##### Warning"
   ]
  },
  {
   "cell_type": "markdown",
   "id": "c3f2df4d",
   "metadata": {},
   "source": [
    "When a classifier is trained , it stores the list of target classes in its **classes_** attribute, ordered by value."
   ]
  },
  {
   "cell_type": "markdown",
   "id": "5268ca1e",
   "metadata": {},
   "source": [
    "In this case, the index of each class in the **classes_** array conveniently matches the class itself (e.g, the class at index 5 happens to be class 5), but in general you won't be so lucky."
   ]
  },
  {
   "cell_type": "markdown",
   "id": "dd572779",
   "metadata": {},
   "source": [
    "To force Scikit-Learn to use one-versus-one or one-versus-the-rest, you can use the OneVsOnceClassifier or OneVsRestClassifier classes. Simply create an instance and pass a classifier to its constructor (it does not even have to be a binary classifier)."
   ]
  },
  {
   "cell_type": "code",
   "execution_count": 156,
   "id": "6ce69d9e",
   "metadata": {},
   "outputs": [
    {
     "data": {
      "text/plain": [
       "array([5], dtype=uint8)"
      ]
     },
     "execution_count": 156,
     "metadata": {},
     "output_type": "execute_result"
    }
   ],
   "source": [
    "# creating a multiclass classifier using the OvR strategy, based on an SVC:\n",
    "from sklearn.multiclass import OneVsRestClassifier\n",
    "ovr_clf = OneVsRestClassifier(SVC())\n",
    "ovr_clf.fit(X_train, y_train)\n",
    "ovr_clf.predict(some_digit)"
   ]
  },
  {
   "cell_type": "code",
   "execution_count": 159,
   "id": "6f9f0e84",
   "metadata": {},
   "outputs": [
    {
     "data": {
      "text/plain": [
       "10"
      ]
     },
     "execution_count": 159,
     "metadata": {},
     "output_type": "execute_result"
    }
   ],
   "source": [
    "len(ovr_clf.estimators_)"
   ]
  },
  {
   "cell_type": "markdown",
   "id": "6576c2ba",
   "metadata": {},
   "source": [
    "Training an SGDClassifier (or a RandomForestClassifier) is just as easy:"
   ]
  },
  {
   "cell_type": "code",
   "execution_count": 174,
   "id": "1f63d9d0",
   "metadata": {},
   "outputs": [
    {
     "data": {
      "text/plain": [
       "array([5], dtype=uint8)"
      ]
     },
     "execution_count": 174,
     "metadata": {},
     "output_type": "execute_result"
    }
   ],
   "source": [
    "forest_clf.fit(X_train,y_train)\n",
    "forest_clf.predict(some_digit)"
   ]
  },
  {
   "cell_type": "markdown",
   "id": "8c29ff7b",
   "metadata": {},
   "source": [
    "This time scikit-learn did not have to run OvR or OvO  because SGD classifiers can directly  classify instances into multiple classes. The decision_function() method now returns one value per class."
   ]
  },
  {
   "cell_type": "code",
   "execution_count": 176,
   "id": "0b065786",
   "metadata": {},
   "outputs": [
    {
     "data": {
      "text/plain": [
       "array([[0.  , 0.  , 0.01, 0.08, 0.  , 0.9 , 0.  , 0.  , 0.  , 0.01]])"
      ]
     },
     "execution_count": 176,
     "metadata": {},
     "output_type": "execute_result"
    }
   ],
   "source": [
    "forest_clf.predict_proba(some_digit) # score that the SGD classifier assigned to  each class"
   ]
  },
  {
   "cell_type": "markdown",
   "id": "9a8f0b32",
   "metadata": {},
   "source": [
    "You can see that the classifier is fairly confident about its prediction: almost all scores probabilities are nearly zero ,while class 5 has a score of 0.9."
   ]
  },
  {
   "cell_type": "markdown",
   "id": "99be4d31",
   "metadata": {},
   "source": [
    "Unfortunately , for my sgdclassifier , it wrongly classified some_digit as 3, to try testing the sgdclassifier ; fit it to the training set and predict some_digit."
   ]
  },
  {
   "cell_type": "code",
   "execution_count": 178,
   "id": "764786a9",
   "metadata": {},
   "outputs": [
    {
     "data": {
      "text/plain": [
       "array([0.9646 , 0.96255, 0.9666 ])"
      ]
     },
     "execution_count": 178,
     "metadata": {},
     "output_type": "execute_result"
    }
   ],
   "source": [
    "cross_val_score(forest_clf,X_train , y_train,cv =3, scoring=\"accuracy\")"
   ]
  },
  {
   "cell_type": "markdown",
   "id": "a6db5157",
   "metadata": {},
   "source": [
    "Nevertheless ,evaluating our SGDClassifier's accuracy , it gets over 96% on all test folds. We cab still do much better simply scaling the inputs."
   ]
  },
  {
   "cell_type": "code",
   "execution_count": 182,
   "id": "ae609226",
   "metadata": {},
   "outputs": [
    {
     "data": {
      "text/plain": [
       "array([0.96445, 0.96255, 0.96645])"
      ]
     },
     "execution_count": 182,
     "metadata": {},
     "output_type": "execute_result"
    }
   ],
   "source": [
    "from sklearn.preprocessing import StandardScaler\n",
    "scaler = StandardScaler()\n",
    "X_train_scaled = scaler.fit_transform(X_train.astype(np.float64))\n",
    "cross_val_score(forest_clf, X_train_scaled, y_train, cv=3,scoring = \"accuracy\")"
   ]
  },
  {
   "cell_type": "markdown",
   "id": "8dc8ce46",
   "metadata": {},
   "source": [
    "Our SGDClassifier's accuracy has maintained ."
   ]
  },
  {
   "cell_type": "markdown",
   "id": "70bc6780",
   "metadata": {},
   "source": [
    "#### Error Analysis "
   ]
  },
  {
   "cell_type": "markdown",
   "id": "e2fc7322",
   "metadata": {},
   "source": [
    "Steps to follow in my Machine learning real project :\n",
    "<ul>\n",
    "    <li>Explore data preparation options,</li> \n",
    "            <li>try out multiple models (shortlisting the best ones andfine-tuning their hyperparameters using GridSearchCV),</li>\n",
    "    <li>automate as much as possible</li>\n",
    "    </ul>"
   ]
  },
  {
   "cell_type": "markdown",
   "id": "5148fe3d",
   "metadata": {},
   "source": [
    "Assuming we have found a promising model and want to find ways to improve it.One way to do this is to analyze the types of errors it makes."
   ]
  },
  {
   "cell_type": "code",
   "execution_count": 180,
   "id": "a7979e99",
   "metadata": {},
   "outputs": [
    {
     "data": {
      "text/plain": [
       "array([[5840,    1,    8,    2,    4,    9,   20,    1,   35,    3],\n",
       "       [   1, 6634,   43,   12,   13,    5,    6,   13,   12,    3],\n",
       "       [  26,   12, 5749,   29,   32,    5,   20,   37,   42,    6],\n",
       "       [   7,    7,   93, 5809,    3,   63,    7,   49,   61,   32],\n",
       "       [  12,   13,   14,    1, 5643,    0,   29,   14,   17,   99],\n",
       "       [  20,    9,    9,   65,   13, 5195,   53,    6,   32,   19],\n",
       "       [  25,   11,    5,    0,   12,   45, 5805,    0,   15,    0],\n",
       "       [   4,   24,   58,    6,   37,    1,    0, 6037,   11,   87],\n",
       "       [   9,   35,   44,   53,   26,   52,   27,    5, 5524,   76],\n",
       "       [  21,   10,   13,   76,   75,   15,    3,   58,   45, 5633]],\n",
       "      dtype=int64)"
      ]
     },
     "execution_count": 180,
     "metadata": {},
     "output_type": "execute_result"
    }
   ],
   "source": [
    "y_train_pred = cross_val_predict(forest_clf, X_train_scaled , y_train , cv =3)\n",
    "conf_mx = confusion_matrix(y_train , y_train_pred)\n",
    "conf_mx"
   ]
  },
  {
   "cell_type": "markdown",
   "id": "6834f279",
   "metadata": {},
   "source": [
    "As there is a lot of numbers it's often more convenient to look at  an image representation of the confusion matrix, using Matplotlib's matshow() function:\n"
   ]
  },
  {
   "cell_type": "code",
   "execution_count": 181,
   "id": "95b7f974",
   "metadata": {},
   "outputs": [
    {
     "data": {
      "image/png": "[encoded data removed]",
      "text/plain": [
       "<Figure size 480x480 with 1 Axes>"
      ]
     },
     "metadata": {},
     "output_type": "display_data"
    }
   ],
   "source": [
    "plt.matshow(conf_mx , cmap = plt.cm.gray)\n",
    "plt.show()"
   ]
  },
  {
   "cell_type": "markdown",
   "id": "f16aace3",
   "metadata": {},
   "source": [
    "Looks pretty good , since most images are on the main diagonal ,which means that they were classified correctly."
   ]
  },
  {
   "cell_type": "markdown",
   "id": "841f5b17",
   "metadata": {},
   "source": [
    "The 5s look slightly darker than the other digits, which could mean that there are fewer images of 5s in the dataset or that the classifier does not perform as well on 5s as on other digits. In fact, you can verify that both are the case."
   ]
  },
  {
   "cell_type": "markdown",
   "id": "72bd7fab",
   "metadata": {},
   "source": [
    "Plotting on the errors:\n",
    "    <ul>\n",
    "    <li>First , you need to divide each value in the confusion matrix by the number of images in the corresponding class so that you can compare error rates instead of absolute numbers of errors</li>\n",
    "   "
   ]
  },
  {
   "cell_type": "code",
   "execution_count": 187,
   "id": "0e3648f4",
   "metadata": {},
   "outputs": [],
   "source": [
    "row_sums =conf_mx.sum(axis =1, keepdims = True)\n",
    "norm_conf_mx = conf_mx / row_sums"
   ]
  },
  {
   "cell_type": "markdown",
   "id": "fc25b3da",
   "metadata": {},
   "source": [
    "\n",
    "<li>Fill the diagonal with zeros to keep only the errors, and plot the result</li></ul>"
   ]
  },
  {
   "cell_type": "code",
   "execution_count": 192,
   "id": "cbc1d8a2",
   "metadata": {
    "scrolled": true
   },
   "outputs": [
    {
     "data": {
      "image/png": "[encoded data removed]",
      "text/plain": [
       "<Figure size 480x480 with 1 Axes>"
      ]
     },
     "metadata": {},
     "output_type": "display_data"
    }
   ],
   "source": [
    "np.fill_diagonal(norm_conf_mx,0)\n",
    "plt.matshow(norm_conf_mx,cmap=plt.cm.gray)\n",
    "plt.show()"
   ]
  },
  {
   "cell_type": "markdown",
   "id": "98525a67",
   "metadata": {},
   "source": [
    "Rows represent actual classes , while columns represent predicted classes. "
   ]
  },
  {
   "cell_type": "markdown",
   "id": "5aa33c39",
   "metadata": {},
   "source": [
    "The column for class 8 is quite bright , which tells you that many images get misclassified as 8s."
   ]
  },
  {
   "cell_type": "markdown",
   "id": "c208a4c7",
   "metadata": {},
   "source": [
    "However, the row for class 8 is not that bad, telling you that actual 8s in general get properly classified as 8s."
   ]
  },
  {
   "cell_type": "markdown",
   "id": "a4db6eba",
   "metadata": {},
   "source": [
    "You can also see that 3s and 5s often get confused (in both directions).Also 9 and 4s "
   ]
  },
  {
   "cell_type": "markdown",
   "id": "686d8073",
   "metadata": {},
   "source": [
    "To improve the classifier , we could try to gather more training data for digits that look like 8s(but are not) so that the classifier can learn to distinguish them from real 8s.Or you could engineer  new features that would help the classifier - for example , writing an algorithm to count the number of closed loops (e.g., 8 has two , 6 has one , 5 has none). Or you could preprocess the images (e.g., using Scikit-Image , Pillow , or OpenCV) to make some patterns , such as  closed loops , stand out more."
   ]
  },
  {
   "cell_type": "markdown",
   "id": "f68c282f",
   "metadata": {},
   "source": [
    "Analysing individual errors can also be a good way to gain insights on what your classifier is doing and why it is failing, but it is more difficult and time-consuming.i.e Let's plot examples of 3s and 5s"
   ]
  },
  {
   "cell_type": "markdown",
   "id": "50c38c38",
   "metadata": {},
   "source": [
    "## Multilabel Classification"
   ]
  },
  {
   "cell_type": "markdown",
   "id": "11f59e01",
   "metadata": {},
   "source": [
    "[Navigate to the Table of contents](#Table-of-Contents)"
   ]
  },
  {
   "cell_type": "markdown",
   "id": "32a68da6",
   "metadata": {},
   "source": [
    "In cases where you may want your classifier to output multiple classes for each instance."
   ]
  },
  {
   "cell_type": "markdown",
   "id": "ac6b8c62",
   "metadata": {},
   "source": [
    "Consider a face-recognition classifier: what should it do if it recognizes several people in the same picture? It should attach one tag per person it recognizes. "
   ]
  },
  {
   "cell_type": "markdown",
   "id": "5962ace4",
   "metadata": {},
   "source": [
    "Looking at a simpler example:"
   ]
  },
  {
   "cell_type": "code",
   "execution_count": 232,
   "id": "58f56ac2",
   "metadata": {},
   "outputs": [
    {
     "data": {
      "text/html": [
       "<style>#sk-container-id-3 {color: black;background-color: white;}#sk-container-id-3 pre{padding: 0;}#sk-container-id-3 div.sk-toggleable {background-color: white;}#sk-container-id-3 label.sk-toggleable__label {cursor: pointer;display: block;width: 100%;margin-bottom: 0;padding: 0.3em;box-sizing: border-box;text-align: center;}#sk-container-id-3 label.sk-toggleable__label-arrow:before {content: \"▸\";float: left;margin-right: 0.25em;color: #696969;}#sk-container-id-3 label.sk-toggleable__label-arrow:hover:before {color: black;}#sk-container-id-3 div.sk-estimator:hover label.sk-toggleable__label-arrow:before {color: black;}#sk-container-id-3 div.sk-toggleable__content {max-height: 0;max-width: 0;overflow: hidden;text-align: left;background-color: #f0f8ff;}#sk-container-id-3 div.sk-toggleable__content pre {margin: 0.2em;color: black;border-radius: 0.25em;background-color: #f0f8ff;}#sk-container-id-3 input.sk-toggleable__control:checked~div.sk-toggleable__content {max-height: 200px;max-width: 100%;overflow: auto;}#sk-container-id-3 input.sk-toggleable__control:checked~label.sk-toggleable__label-arrow:before {content: \"▾\";}#sk-container-id-3 div.sk-estimator input.sk-toggleable__control:checked~label.sk-toggleable__label {background-color: #d4ebff;}#sk-container-id-3 div.sk-label input.sk-toggleable__control:checked~label.sk-toggleable__label {background-color: #d4ebff;}#sk-container-id-3 input.sk-hidden--visually {border: 0;clip: rect(1px 1px 1px 1px);clip: rect(1px, 1px, 1px, 1px);height: 1px;margin: -1px;overflow: hidden;padding: 0;position: absolute;width: 1px;}#sk-container-id-3 div.sk-estimator {font-family: monospace;background-color: #f0f8ff;border: 1px dotted black;border-radius: 0.25em;box-sizing: border-box;margin-bottom: 0.5em;}#sk-container-id-3 div.sk-estimator:hover {background-color: #d4ebff;}#sk-container-id-3 div.sk-parallel-item::after {content: \"\";width: 100%;border-bottom: 1px solid gray;flex-grow: 1;}#sk-container-id-3 div.sk-label:hover label.sk-toggleable__label {background-color: #d4ebff;}#sk-container-id-3 div.sk-serial::before {content: \"\";position: absolute;border-left: 1px solid gray;box-sizing: border-box;top: 0;bottom: 0;left: 50%;z-index: 0;}#sk-container-id-3 div.sk-serial {display: flex;flex-direction: column;align-items: center;background-color: white;padding-right: 0.2em;padding-left: 0.2em;position: relative;}#sk-container-id-3 div.sk-item {position: relative;z-index: 1;}#sk-container-id-3 div.sk-parallel {display: flex;align-items: stretch;justify-content: center;background-color: white;position: relative;}#sk-container-id-3 div.sk-item::before, #sk-container-id-3 div.sk-parallel-item::before {content: \"\";position: absolute;border-left: 1px solid gray;box-sizing: border-box;top: 0;bottom: 0;left: 50%;z-index: -1;}#sk-container-id-3 div.sk-parallel-item {display: flex;flex-direction: column;z-index: 1;position: relative;background-color: white;}#sk-container-id-3 div.sk-parallel-item:first-child::after {align-self: flex-end;width: 50%;}#sk-container-id-3 div.sk-parallel-item:last-child::after {align-self: flex-start;width: 50%;}#sk-container-id-3 div.sk-parallel-item:only-child::after {width: 0;}#sk-container-id-3 div.sk-dashed-wrapped {border: 1px dashed gray;margin: 0 0.4em 0.5em 0.4em;box-sizing: border-box;padding-bottom: 0.4em;background-color: white;}#sk-container-id-3 div.sk-label label {font-family: monospace;font-weight: bold;display: inline-block;line-height: 1.2em;}#sk-container-id-3 div.sk-label-container {text-align: center;}#sk-container-id-3 div.sk-container {/* jupyter's `normalize.less` sets `[hidden] { display: none; }` but bootstrap.min.css set `[hidden] { display: none !important; }` so we also need the `!important` here to be able to override the default hidden behavior on the sphinx rendered scikit-learn.org. See: https://github.com/scikit-learn/scikit-learn/issues/21755 */display: inline-block !important;position: relative;}#sk-container-id-3 div.sk-text-repr-fallback {display: none;}</style><div id=\"sk-container-id-3\" class=\"sk-top-container\"><div class=\"sk-text-repr-fallback\"><pre>KNeighborsClassifier()</pre><b>In a Jupyter environment, please rerun this cell to show the HTML representation or trust the notebook. <br />On GitHub, the HTML representation is unable to render, please try loading this page with nbviewer.org.</b></div><div class=\"sk-container\" hidden><div class=\"sk-item\"><div class=\"sk-estimator sk-toggleable\"><input class=\"sk-toggleable__control sk-hidden--visually\" id=\"sk-estimator-id-3\" type=\"checkbox\" checked><label for=\"sk-estimator-id-3\" class=\"sk-toggleable__label sk-toggleable__label-arrow\">KNeighborsClassifier</label><div class=\"sk-toggleable__content\"><pre>KNeighborsClassifier()</pre></div></div></div></div></div>"
      ],
      "text/plain": [
       "KNeighborsClassifier()"
      ]
     },
     "execution_count": 232,
     "metadata": {},
     "output_type": "execute_result"
    }
   ],
   "source": [
    "from sklearn.neighbors import KNeighborsClassifier\n",
    "\n",
    "y_train_large = (y_train >= 7)\n",
    "y_train_odd = (y_train % 2 ==  1)\n",
    "y_multilabel = np.c_[y_train_large , y_train_odd]\n",
    "\n",
    "\n",
    "knn_clf = KNeighborsClassifier()\n",
    "knn_clf.fit(X_train, y_multilabel)\n"
   ]
  },
  {
   "cell_type": "markdown",
   "id": "9d5510ca",
   "metadata": {},
   "source": [
    "This code creates a y_multilable array containing two target labels for each digit image: the first indicates whether or not the digit is large (7,8 or 9),and the second indicates whether or not it is odd."
   ]
  },
  {
   "cell_type": "markdown",
   "id": "17881df4",
   "metadata": {},
   "source": [
    "The next lines create a KNeighborsClassifier instance (which supports multilabel classificaaion , though not all classifiers do), train it using the multiple targets array.Now ,we canc make a prediction."
   ]
  },
  {
   "cell_type": "code",
   "execution_count": 236,
   "id": "b4c7e68a",
   "metadata": {},
   "outputs": [
    {
     "data": {
      "text/plain": [
       "array([[False,  True]])"
      ]
     },
     "execution_count": 236,
     "metadata": {},
     "output_type": "execute_result"
    }
   ],
   "source": [
    "knn_clf.predict(some_digit)"
   ]
  },
  {
   "cell_type": "markdown",
   "id": "71dcd595",
   "metadata": {},
   "source": [
    "It outputs two labels and it gets it right! The digit 5 indeed not large(False) and odd (True)"
   ]
  },
  {
   "cell_type": "code",
   "execution_count": 238,
   "id": "65c6ae07",
   "metadata": {},
   "outputs": [
    {
     "data": {
      "text/plain": [
       "0.976410265560605"
      ]
     },
     "execution_count": 238,
     "metadata": {},
     "output_type": "execute_result"
    }
   ],
   "source": [
    "#Evaluating the multilabel classifier using the F_1 score\n",
    "y_train_knn_pred =cross_val_predict(knn_clf, X_train,y_multilabel, cv =3)\n",
    "f1_score(y_multilabel,y_train_knn_pred, average =\"macro\")"
   ]
  },
  {
   "cell_type": "markdown",
   "id": "48e40c17",
   "metadata": {},
   "source": [
    "## Multioutput Classification"
   ]
  },
  {
   "cell_type": "markdown",
   "id": "b641a00b",
   "metadata": {},
   "source": [
    "[Navigate to the Table of contents](#Table-of-Contents)"
   ]
  },
  {
   "cell_type": "markdown",
   "id": "75b732df",
   "metadata": {},
   "source": [
    "Also called *multioutput- multiclass classification*. It is simply a generalization of multilabel classification where each label can be multiclass (i.e., it can have more than two possible values)."
   ]
  },
  {
   "cell_type": "markdown",
   "id": "ac29e3f1",
   "metadata": {},
   "source": [
    "To illustrate this by building a system that removes noice from images. taking as input a noisy digit image , and it will hopefully output a clean digit image,represented as an array of pixel intensities , just like the MNIST images."
   ]
  },
  {
   "cell_type": "code",
   "execution_count": 241,
   "id": "f6566bbd",
   "metadata": {},
   "outputs": [],
   "source": [
    "#creating the training and test sets by taking the MNIST images and adding noise to their pixes intensities with Numpy's randint()\n",
    "noise = np.random.randint(0, 100, (len(X_train), 784))\n",
    "X_train_mod = X_train + noise\n",
    "noise = np.random.randint(0, 100, (len(X_test), 784))\n",
    "X_test_mod = X_test + noise \n",
    "y_train_mod = X_train\n",
    "y_test_mod = X_test"
   ]
  },
  {
   "cell_type": "code",
   "execution_count": 246,
   "id": "ec3daf0b",
   "metadata": {},
   "outputs": [
    {
     "data": {
      "image/png": "[encoded data removed]",
      "text/plain": [
       "<Figure size 640x480 with 1 Axes>"
      ]
     },
     "metadata": {},
     "output_type": "display_data"
    }
   ],
   "source": [
    "\n",
    "plt.imshow(X_train_mod.iloc[0].values.reshape(28,28),cmap=\"binary\")\n",
    "plt.show()"
   ]
  },
  {
   "cell_type": "markdown",
   "id": "0b97af5c",
   "metadata": {},
   "source": [
    "Taking a peek at an image from the test set, this is the some_digit image at the start of our classification conversation"
   ]
  },
  {
   "cell_type": "markdown",
   "id": "e60b1677",
   "metadata": {},
   "source": [
    "Now let's train the classifier and make it clean these images"
   ]
  },
  {
   "cell_type": "code",
   "execution_count": 272,
   "id": "ea699ff9",
   "metadata": {},
   "outputs": [
    {
     "data": {
      "image/png": "[encoded data removed]",
      "text/plain": [
       "<Figure size 640x480 with 1 Axes>"
      ]
     },
     "metadata": {},
     "output_type": "display_data"
    }
   ],
   "source": [
    "knn_clf.fit(X_train_mod, y_train_mod)\n",
    "#isolating the some_digit noised image for prediction\n",
    "some_digit_noised = pd.DataFrame(X_train_mod.iloc[0]).T\n",
    "clean_digit = knn_clf.predict(some_digit_noised)\n",
    "plt.imshow(clean_digit.reshape(28,28),cmap=\"binary\")\n",
    "plt.axis(\"off\")\n",
    "plt.show()"
   ]
  },
  {
   "cell_type": "markdown",
   "id": "540f1ead",
   "metadata": {},
   "source": [
    "Looks close enough to the target!Concluding our tour of classification on this jupyter notebooks."
   ]
  },
  {
   "cell_type": "markdown",
   "id": "d536b242",
   "metadata": {},
   "source": [
    "## Credits"
   ]
  },
  {
   "cell_type": "markdown",
   "id": "334ec087",
   "metadata": {},
   "source": [
    "[Navigate to the Table of contents](#Table-of-Contents)"
   ]
  },
  {
   "cell_type": "markdown",
   "id": "27236d5f",
   "metadata": {},
   "source": [
    "\n",
    "<ul>\n",
    "    <li><b>Hands-On Machine Learning\n",
    " with Scikit-Learn, Keras, and\n",
    " TensorFlow ; Aurelion Geron</b> </li>Making it possible for me to make this notebook by following his examples and teaching side by side.</ul>"
   ]
  }
 ],
 "metadata": {
  "kernelspec": {
   "display_name": "Python 3 (ipykernel)",
   "language": "python",
   "name": "python3"
  },
  "language_info": {
   "codemirror_mode": {
    "name": "ipython",
    "version": 3
   },
   "file_extension": ".py",
   "mimetype": "text/x-python",
   "name": "python",
   "nbconvert_exporter": "python",
   "pygments_lexer": "ipython3",
   "version": "3.10.9"
  }
 },
 "nbformat": 4,
 "nbformat_minor": 5
}
